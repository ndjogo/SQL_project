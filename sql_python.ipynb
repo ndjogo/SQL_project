{
 "cells": [
  {
   "cell_type": "code",
   "execution_count": 31,
   "metadata": {},
   "outputs": [],
   "source": [
    "from sqlalchemy import create_engine, Table, MetaData, select"
   ]
  },
  {
   "cell_type": "code",
   "execution_count": 15,
   "metadata": {},
   "outputs": [],
   "source": [
    "engine = create_engine('mysql+mysqlconnector://root@localhost/movie_data')"
   ]
  },
  {
   "cell_type": "code",
   "execution_count": 6,
   "metadata": {},
   "outputs": [],
   "source": [
    "metadata = MetaData()\n"
   ]
  },
  {
   "cell_type": "code",
   "execution_count": 16,
   "metadata": {},
   "outputs": [],
   "source": [
    "table_name = Table('samuel_movies', metadata,autoload_with = engine ) "
   ]
  },
  {
   "cell_type": "code",
   "execution_count": 17,
   "metadata": {},
   "outputs": [],
   "source": [
    "with engine.connect() as connection: \n",
    "    result = connection.execute(table_name.select())\n",
    "    "
   ]
  },
  {
   "cell_type": "code",
   "execution_count": 19,
   "metadata": {},
   "outputs": [
    {
     "name": "stdout",
     "output_type": "stream",
     "text": [
      "('1408', 2007)\n",
      "('Any Given Wednesday', 2000)\n",
      "('Argylle', 2022)\n",
      "('Pulp Fiction', 1994)\n",
      "('QT8: The First Eight', 2019)\n",
      "('Quantum Quest: A Cassini Space Odyssey', 2010)\n",
      "('Quentin Tarantino: 20 Years of Filmmaking', 2012)\n",
      "('Quincy', 2018)\n",
      "('Ragtime', 1981)\n",
      "('Reasonable Doubt', 2014)\n",
      "('Resurrecting the Champ', 2007)\n",
      "('RoboCop', 2014)\n",
      "('Rules of Engagement', 2000)\n",
      "('Astro Boy', 2009)\n",
      "('S.W.A.T', 2003)\n",
      "('School Daze', 1988)\n",
      "('Sea of Love', 1989)\n",
      "('Shaft', 2019)\n",
      "('Shaft', 2000)\n",
      "('Snakes on a Plane', 2006)\n",
      "('Soul Men', 2008)\n",
      "('Sphere', 1998)\n",
      "('Spider-Man: Far from Home', 2019)\n",
      "('Avengers: Age of Ultron', 2015)\n",
      "('Spiral: From the Book of Saw', 2021)\n",
      "('Star Wars: Episode I - The Phantom Menace', 1999)\n",
      "('Star Wars: Episode II - Attack of the Clones', 2002)\n",
      "('Star Wars: Episode III - Revenge of the Sith', 2005)\n",
      "('Star Wars: The Rise of Skywalker', 2019)\n",
      "('Star Wars: The Clone Wars', 2008)\n",
      "('Strictly Business', 1991)\n",
      "('The 100 Best Black Movies (Ever)', 2007)\n",
      "('Avengers Assemble', 2012)\n",
      "('The Avengers Assemble Premiere', 2012)\n",
      "('Avengers: Endgame', 2019)\n",
      "('The Banker', 2020)\n",
      "(\"The Caveman's Valentine\", 2001)\n",
      "('The Exorcist III', 1990)\n",
      "('The Exterminator', 1980)\n",
      "('The Great White Hype', 1996)\n",
      "('The Hateful Eight', 2015)\n",
      "(\"The Hitman's Bodyguard\", 2017)\n",
      "('The Incredibles', 2004)\n",
      "('The Last Full Measure', 2019)\n",
      "('Avengers: Infinity War', 2018)\n",
      "('The Legend of Tarzan', 2016)\n",
      "('The Long Kiss Goodnight', 1996)\n",
      "('The Man', 2005)\n",
      "('The Marvels', 2023)\n",
      "('The N Word', 2004)\n",
      "('The Negotiator', 1998)\n",
      "('The New Age', 1994)\n",
      "('The Other Guys', 2010)\n",
      "('The Asset', 2021)\n",
      "('Barely Lethal', 2015)\n",
      "('The Red Violin', 1998)\n",
      "('The Return of Superfly', 1990)\n",
      "('Fury(I)', 2012)\n",
      "('The Search for One-eye Jimmy', 1994)\n",
      "('The Spirit', 2008)\n",
      "('The Start of Dreams', 2010)\n",
      "('Thor', 2011)\n",
      "('Together for Days', 1972)\n",
      "('Trees Lounge', 1996)\n",
      "('True Romance', 1993)\n",
      "('Basic', 2003)\n",
      "('Turbo', 2013)\n",
      "('Twisted(I)', 2004)\n",
      "('Unbreakable', 2000)\n",
      "('Unchained Memories: Readings from the Slave Narratives', 2003)\n",
      "('Unforgivable Blackness: The Rise and Fall of Jack Johnson', 2004)\n",
      "('Unicorn Store', 2017)\n",
      "('Unthinkable', 2010)\n",
      "('Waking in Mississippi', 1998)\n",
      "('Be the Ball', 2019)\n",
      "('White Sands', 1992)\n",
      "('With Great Power: The Stan Lee Story', 2010)\n",
      "('Young Jeezy: A Hustlerz Ambition', 2011)\n",
      "('xXx', 2002)\n",
      "('xXx: Return of Xander Cage', 2017)\n",
      "('xXx: The Next Level', 2005)\n",
      "(\"Betsy's Wedding\", 1990)\n",
      "('Bienvenue  Cannes', 2007)\n",
      "('A Backyard Story', 2010)\n",
      "('Coaching the Minors', 2003)\n",
      "('Big Game', 2014)\n",
      "('Black Snake Moan', 2006)\n",
      "('Blazing Samurai', 2022)\n",
      "('Captain America: The First Avenger', 2011)\n",
      "('Captain America: The Winter Soldier', 2014)\n",
      "('Captain Marvel', 2019)\n",
      "('Cell(I)', 2016)\n",
      "('Changing Lanes', 2002)\n",
      "('Chi-Raq', 2015)\n",
      "('Cleaner', 2007)\n",
      "('A Shock to the System', 1990)\n",
      "('How Far Would You Go for Love?', 2010)\n",
      "('Coach Carter', 2005)\n",
      "('Coming to America', 1988)\n",
      "('Deep Blue Sea', 1999)\n",
      "('Def by Temptation', 1990)\n",
      "('Die Hard: With a Vengeance', 1995)\n",
      "('Django Unchained', 2012)\n",
      "('Do the Right Thing', 1989)\n",
      "('Eating You Alive', 2018)\n",
      "('Eddie Murphy: Raw', 1987)\n",
      "('A Time to Kill', 1996)\n",
      "('One for the Boys: The Difference', 2016)\n",
      "(\"Eve's Bayou\", 1997)\n",
      "('Face of Unity', 2014)\n",
      "('Farce of the Penguins', 2006)\n",
      "('Fathers & Sons', 1992)\n",
      "('Fluke', 1995)\n",
      "('The 51st State', 2001)\n",
      "('Freedomland', 2006)\n",
      "('Fresh', 1994)\n",
      "('Glass', 2019)\n",
      "('Goodfellas', 1990)\n",
      "('Road to Ingwavuma', 2008)\n",
      "('Zambezia', 2012)\n",
      "('Gospel Hill', 2008)\n",
      "('Hail Caesar', 1994)\n",
      "('Hard Eight', 1996)\n",
      "('Hardcore Henry', 2015)\n",
      "(\"The Hitman's Wife's Bodyguard\", 2021)\n",
      "('Home of the Brave', 2006)\n",
      "(\"I Ain't Scared of You: A Tribute to Bernie Mac\", 2011)\n",
      "('I Am Not Your Negro', 2016)\n",
      "('Country of My Skull', 2004)\n",
      "('In the Land of the Free', 2010)\n",
      "('African Cats', 2011)\n",
      "('The Comeback', 2002)\n",
      "('The Incredibles 2', 2018)\n",
      "('Inglourious Basterds', 2009)\n",
      "('Iron Man', 2008)\n",
      "('Iron Man 2', 2010)\n",
      "('Jackie Brown', 1997)\n",
      "('Johnny Suede', 1991)\n",
      "('Juice', 1992)\n",
      "('Jumper', 2008)\n",
      "(\"Jumpin' at The Boneyard\", 1991)\n",
      "('Jungle Fever', 1991)\n",
      "('Tyrannosaurus Funk', 2017)\n",
      "('Jurassic Park', 1993)\n",
      "('Kill Bill: Vol.2', 2004)\n",
      "('Kingsman: The Golden Circle', 2017)\n",
      "('Kingsman: The Secret Service', 2014)\n",
      "('Kiss of Death', 1995)\n",
      "('Kite', 2014)\n",
      "('Kong: Skull Island', 2017)\n",
      "('Lakeview Terrace', 2008)\n",
      "('Life Itself', 2018)\n",
      "(\"Life's Essentials with Ruby Dee\", 2014)\n",
      "(\"Alexis Arquette: She's My Brother\", 2007)\n",
      "('Wake the Fuck Up', 2012)\n",
      "('Loaded Weapon 1', 1993)\n",
      "('Losing Isaiah', 1995)\n",
      "('Magic Sticks', 1987)\n",
      "('Meeting Evil', 2012)\n",
      "('Menace II Society', 1993)\n",
      "('Miracle on 42nd Street', 2017)\n",
      "(\"Miss Peregrine's Home for Peculiar Children\", 2016)\n",
      "(\"Mo' Better Blues\", 1990)\n",
      "('Amos & Andrew', 1993)\n",
      "('Watching, Waiting', 2017)\n",
      "('Mother and Child', 2009)\n",
      "('My Date with Drew', 2004)\n",
      "('No Good Deed', 2002)\n",
      "(\"Off the Menu: The Last Days of Chasen's\", 1997)\n",
      "('Oldboy', 2013)\n",
      "('On the Shoulders of Giants: The Story of the Greatest Team You Never Heard Of', 2010)\n",
      "('One Eight Seven', 1997)\n",
      "('Out of Sight', 1998)\n",
      "('Patriot Games', 1992)\n",
      "('R2-D2: Beneath the Dome', 2001)\n",
      "('Moose', 2018)\n",
      "('A Night to Die for', 1995)\n",
      "('When Sharks Attack!', 1999)\n",
      "(\"Starz on the Set: 'xXx'\", 2002)\n"
     ]
    }
   ],
   "source": [
    "for row in result: \n",
    "    print(row)"
   ]
  },
  {
   "cell_type": "code",
   "execution_count": 20,
   "metadata": {},
   "outputs": [],
   "source": [
    "import mysql.connector \n"
   ]
  },
  {
   "cell_type": "code",
   "execution_count": 22,
   "metadata": {},
   "outputs": [],
   "source": [
    "cnx = mysql.connector.connect(user = 'root', host = '127.0.0.1', database = 'movie_data')"
   ]
  },
  {
   "cell_type": "code",
   "execution_count": 24,
   "metadata": {},
   "outputs": [],
   "source": [
    "cursor = cnx.cursor()"
   ]
  },
  {
   "cell_type": "code",
   "execution_count": 25,
   "metadata": {},
   "outputs": [],
   "source": [
    "query = 'SELECT * FROM samuel_movies'\n"
   ]
  },
  {
   "cell_type": "code",
   "execution_count": 26,
   "metadata": {},
   "outputs": [],
   "source": [
    "cursor.execute(query)"
   ]
  },
  {
   "cell_type": "code",
   "execution_count": 27,
   "metadata": {},
   "outputs": [
    {
     "name": "stdout",
     "output_type": "stream",
     "text": [
      "('1408', 2007)\n",
      "('Any Given Wednesday', 2000)\n",
      "('Argylle', 2022)\n",
      "('Pulp Fiction', 1994)\n",
      "('QT8: The First Eight', 2019)\n",
      "('Quantum Quest: A Cassini Space Odyssey', 2010)\n",
      "('Quentin Tarantino: 20 Years of Filmmaking', 2012)\n",
      "('Quincy', 2018)\n",
      "('Ragtime', 1981)\n",
      "('Reasonable Doubt', 2014)\n",
      "('Resurrecting the Champ', 2007)\n",
      "('RoboCop', 2014)\n",
      "('Rules of Engagement', 2000)\n",
      "('Astro Boy', 2009)\n",
      "('S.W.A.T', 2003)\n",
      "('School Daze', 1988)\n",
      "('Sea of Love', 1989)\n",
      "('Shaft', 2019)\n",
      "('Shaft', 2000)\n",
      "('Snakes on a Plane', 2006)\n",
      "('Soul Men', 2008)\n",
      "('Sphere', 1998)\n",
      "('Spider-Man: Far from Home', 2019)\n",
      "('Avengers: Age of Ultron', 2015)\n",
      "('Spiral: From the Book of Saw', 2021)\n",
      "('Star Wars: Episode I - The Phantom Menace', 1999)\n",
      "('Star Wars: Episode II - Attack of the Clones', 2002)\n",
      "('Star Wars: Episode III - Revenge of the Sith', 2005)\n",
      "('Star Wars: The Rise of Skywalker', 2019)\n",
      "('Star Wars: The Clone Wars', 2008)\n",
      "('Strictly Business', 1991)\n",
      "('The 100 Best Black Movies (Ever)', 2007)\n",
      "('Avengers Assemble', 2012)\n",
      "('The Avengers Assemble Premiere', 2012)\n",
      "('Avengers: Endgame', 2019)\n",
      "('The Banker', 2020)\n",
      "(\"The Caveman's Valentine\", 2001)\n",
      "('The Exorcist III', 1990)\n",
      "('The Exterminator', 1980)\n",
      "('The Great White Hype', 1996)\n",
      "('The Hateful Eight', 2015)\n",
      "(\"The Hitman's Bodyguard\", 2017)\n",
      "('The Incredibles', 2004)\n",
      "('The Last Full Measure', 2019)\n",
      "('Avengers: Infinity War', 2018)\n",
      "('The Legend of Tarzan', 2016)\n",
      "('The Long Kiss Goodnight', 1996)\n",
      "('The Man', 2005)\n",
      "('The Marvels', 2023)\n",
      "('The N Word', 2004)\n",
      "('The Negotiator', 1998)\n",
      "('The New Age', 1994)\n",
      "('The Other Guys', 2010)\n",
      "('The Asset', 2021)\n",
      "('Barely Lethal', 2015)\n",
      "('The Red Violin', 1998)\n",
      "('The Return of Superfly', 1990)\n",
      "('Fury(I)', 2012)\n",
      "('The Search for One-eye Jimmy', 1994)\n",
      "('The Spirit', 2008)\n",
      "('The Start of Dreams', 2010)\n",
      "('Thor', 2011)\n",
      "('Together for Days', 1972)\n",
      "('Trees Lounge', 1996)\n",
      "('True Romance', 1993)\n",
      "('Basic', 2003)\n",
      "('Turbo', 2013)\n",
      "('Twisted(I)', 2004)\n",
      "('Unbreakable', 2000)\n",
      "('Unchained Memories: Readings from the Slave Narratives', 2003)\n",
      "('Unforgivable Blackness: The Rise and Fall of Jack Johnson', 2004)\n",
      "('Unicorn Store', 2017)\n",
      "('Unthinkable', 2010)\n",
      "('Waking in Mississippi', 1998)\n",
      "('Be the Ball', 2019)\n",
      "('White Sands', 1992)\n",
      "('With Great Power: The Stan Lee Story', 2010)\n",
      "('Young Jeezy: A Hustlerz Ambition', 2011)\n",
      "('xXx', 2002)\n",
      "('xXx: Return of Xander Cage', 2017)\n",
      "('xXx: The Next Level', 2005)\n",
      "(\"Betsy's Wedding\", 1990)\n",
      "('Bienvenue  Cannes', 2007)\n",
      "('A Backyard Story', 2010)\n",
      "('Coaching the Minors', 2003)\n",
      "('Big Game', 2014)\n",
      "('Black Snake Moan', 2006)\n",
      "('Blazing Samurai', 2022)\n",
      "('Captain America: The First Avenger', 2011)\n",
      "('Captain America: The Winter Soldier', 2014)\n",
      "('Captain Marvel', 2019)\n",
      "('Cell(I)', 2016)\n",
      "('Changing Lanes', 2002)\n",
      "('Chi-Raq', 2015)\n",
      "('Cleaner', 2007)\n",
      "('A Shock to the System', 1990)\n",
      "('How Far Would You Go for Love?', 2010)\n",
      "('Coach Carter', 2005)\n",
      "('Coming to America', 1988)\n",
      "('Deep Blue Sea', 1999)\n",
      "('Def by Temptation', 1990)\n",
      "('Die Hard: With a Vengeance', 1995)\n",
      "('Django Unchained', 2012)\n",
      "('Do the Right Thing', 1989)\n",
      "('Eating You Alive', 2018)\n",
      "('Eddie Murphy: Raw', 1987)\n",
      "('A Time to Kill', 1996)\n",
      "('One for the Boys: The Difference', 2016)\n",
      "(\"Eve's Bayou\", 1997)\n",
      "('Face of Unity', 2014)\n",
      "('Farce of the Penguins', 2006)\n",
      "('Fathers & Sons', 1992)\n",
      "('Fluke', 1995)\n",
      "('The 51st State', 2001)\n",
      "('Freedomland', 2006)\n",
      "('Fresh', 1994)\n",
      "('Glass', 2019)\n",
      "('Goodfellas', 1990)\n",
      "('Road to Ingwavuma', 2008)\n",
      "('Zambezia', 2012)\n",
      "('Gospel Hill', 2008)\n",
      "('Hail Caesar', 1994)\n",
      "('Hard Eight', 1996)\n",
      "('Hardcore Henry', 2015)\n",
      "(\"The Hitman's Wife's Bodyguard\", 2021)\n",
      "('Home of the Brave', 2006)\n",
      "(\"I Ain't Scared of You: A Tribute to Bernie Mac\", 2011)\n",
      "('I Am Not Your Negro', 2016)\n",
      "('Country of My Skull', 2004)\n",
      "('In the Land of the Free', 2010)\n",
      "('African Cats', 2011)\n",
      "('The Comeback', 2002)\n",
      "('The Incredibles 2', 2018)\n",
      "('Inglourious Basterds', 2009)\n",
      "('Iron Man', 2008)\n",
      "('Iron Man 2', 2010)\n",
      "('Jackie Brown', 1997)\n",
      "('Johnny Suede', 1991)\n",
      "('Juice', 1992)\n",
      "('Jumper', 2008)\n",
      "(\"Jumpin' at The Boneyard\", 1991)\n",
      "('Jungle Fever', 1991)\n",
      "('Tyrannosaurus Funk', 2017)\n",
      "('Jurassic Park', 1993)\n",
      "('Kill Bill: Vol.2', 2004)\n",
      "('Kingsman: The Golden Circle', 2017)\n",
      "('Kingsman: The Secret Service', 2014)\n",
      "('Kiss of Death', 1995)\n",
      "('Kite', 2014)\n",
      "('Kong: Skull Island', 2017)\n",
      "('Lakeview Terrace', 2008)\n",
      "('Life Itself', 2018)\n",
      "(\"Life's Essentials with Ruby Dee\", 2014)\n",
      "(\"Alexis Arquette: She's My Brother\", 2007)\n",
      "('Wake the Fuck Up', 2012)\n",
      "('Loaded Weapon 1', 1993)\n",
      "('Losing Isaiah', 1995)\n",
      "('Magic Sticks', 1987)\n",
      "('Meeting Evil', 2012)\n",
      "('Menace II Society', 1993)\n",
      "('Miracle on 42nd Street', 2017)\n",
      "(\"Miss Peregrine's Home for Peculiar Children\", 2016)\n",
      "(\"Mo' Better Blues\", 1990)\n",
      "('Amos & Andrew', 1993)\n",
      "('Watching, Waiting', 2017)\n",
      "('Mother and Child', 2009)\n",
      "('My Date with Drew', 2004)\n",
      "('No Good Deed', 2002)\n",
      "(\"Off the Menu: The Last Days of Chasen's\", 1997)\n",
      "('Oldboy', 2013)\n",
      "('On the Shoulders of Giants: The Story of the Greatest Team You Never Heard Of', 2010)\n",
      "('One Eight Seven', 1997)\n",
      "('Out of Sight', 1998)\n",
      "('Patriot Games', 1992)\n",
      "('R2-D2: Beneath the Dome', 2001)\n",
      "('Moose', 2018)\n",
      "('A Night to Die for', 1995)\n",
      "('When Sharks Attack!', 1999)\n",
      "(\"Starz on the Set: 'xXx'\", 2002)\n"
     ]
    }
   ],
   "source": [
    "for row in cursor: \n",
    "    print(row)"
   ]
  },
  {
   "cell_type": "code",
   "execution_count": 28,
   "metadata": {},
   "outputs": [],
   "source": [
    "for row in cursor: \n",
    "    print(row)"
   ]
  },
  {
   "attachments": {},
   "cell_type": "markdown",
   "metadata": {},
   "source": [
    "# 'Create a new table named Common containing the films where Samuel L. Jackson AND Tim Roth both had a role\n",
    "# Create a new table named Only_Samuel containing the films where Samuel L. Jackson had a role but Tim Roth didn't'"
   ]
  },
  {
   "cell_type": "code",
   "execution_count": 46,
   "metadata": {},
   "outputs": [],
   "source": [
    "query_2 = \"SELECT sm.Title, sm.Year_Val FROM samuel_movies as sm INNER JOIN tim_movies as tm ON sm.Title = tm.Title\""
   ]
  },
  {
   "cell_type": "code",
   "execution_count": 30,
   "metadata": {},
   "outputs": [],
   "source": [
    "samuel_movies = Table('samuel_movies', metadata, autoload_with = engine)\n",
    "tim_movies = Table('tim_movies', metadata, autoload_with = engine)"
   ]
  },
  {
   "cell_type": "code",
   "execution_count": 40,
   "metadata": {},
   "outputs": [],
   "source": [
    "common_movies = select(samuel_movies.c.Title, samuel_movies.c.Year_Val).select_from(samuel_movies.join(tim_movies, samuel_movies.c.Title == tim_movies.c.Title))"
   ]
  },
  {
   "cell_type": "code",
   "execution_count": 41,
   "metadata": {},
   "outputs": [],
   "source": [
    "with engine.connect() as connection: \n",
    "    result = connection.execute(common_movies) "
   ]
  },
  {
   "cell_type": "code",
   "execution_count": 42,
   "metadata": {},
   "outputs": [
    {
     "name": "stdout",
     "output_type": "stream",
     "text": [
      "('QT8: The First Eight', 2019)\n",
      "('Quentin Tarantino: 20 Years of Filmmaking', 2012)\n",
      "('A Backyard Story', 2010)\n",
      "('Hardcore Henry', 2015)\n",
      "(\"Jumpin' at The Boneyard\", 1991)\n"
     ]
    }
   ],
   "source": [
    "for row in result: \n",
    "    print(row)"
   ]
  },
  {
   "cell_type": "code",
   "execution_count": 47,
   "metadata": {},
   "outputs": [],
   "source": [
    "cursor.execute(query_2)"
   ]
  },
  {
   "cell_type": "code",
   "execution_count": 48,
   "metadata": {},
   "outputs": [
    {
     "name": "stdout",
     "output_type": "stream",
     "text": [
      "('QT8: The First Eight', 2019)\n",
      "('Quentin Tarantino: 20 Years of Filmmaking', 2012)\n",
      "('A Backyard Story', 2010)\n",
      "('Hardcore Henry', 2015)\n",
      "(\"Jumpin' at The Boneyard\", 1991)\n"
     ]
    }
   ],
   "source": [
    "for row in cursor: \n",
    "    print(row)"
   ]
  },
  {
   "attachments": {},
   "cell_type": "markdown",
   "metadata": {},
   "source": [
    "# Create a new table named Only_Samuel containing the films where Samuel L. Jackson had a role but Tim Roth didn't\n",
    "# Create a new table named Only_Tim containing the films where Tim Roth had a role but Samuel L. Jackson didn't\n",
    "# At the end of the challenge these tables should be reflected in your database."
   ]
  },
  {
   "cell_type": "code",
   "execution_count": 65,
   "metadata": {},
   "outputs": [],
   "source": [
    "query_3 = \"\"\"CREATE TABLE Only_Samuel(\n",
    "                        Title VARCHAR(200),\n",
    "                        Year_Val INT\n",
    "                        );\"\"\""
   ]
  },
  {
   "cell_type": "code",
   "execution_count": 68,
   "metadata": {},
   "outputs": [],
   "source": [
    "query_4 = \"\"\"CREATE TABLE Only_Tim(\n",
    "                        Title VARCHAR(200),\n",
    "                        Year_Val INT\n",
    "                        );\"\"\""
   ]
  },
  {
   "cell_type": "code",
   "execution_count": 74,
   "metadata": {},
   "outputs": [],
   "source": [
    "query_5 = \"INSERT INTO Only_Samuel(Title, Year_Val) SELECT sm.Title, sm.Year_Val FROM samuel_movies AS sm LEFT OUTER JOIN tim_movies as tm ON sm.Title = tm.Title WHERE tm.Title is NULL\""
   ]
  },
  {
   "cell_type": "code",
   "execution_count": 75,
   "metadata": {},
   "outputs": [],
   "source": [
    "cursor.execute(query_5)"
   ]
  },
  {
   "cell_type": "code",
   "execution_count": 76,
   "metadata": {},
   "outputs": [],
   "source": [
    "for row in cursor: \n",
    "    print(row)"
   ]
  },
  {
   "cell_type": "code",
   "execution_count": null,
   "metadata": {},
   "outputs": [],
   "source": []
  }
 ],
 "metadata": {
  "kernelspec": {
   "display_name": "base",
   "language": "python",
   "name": "python3"
  },
  "language_info": {
   "codemirror_mode": {
    "name": "ipython",
    "version": 3
   },
   "file_extension": ".py",
   "mimetype": "text/x-python",
   "name": "python",
   "nbconvert_exporter": "python",
   "pygments_lexer": "ipython3",
   "version": "3.10.9"
  },
  "orig_nbformat": 4
 },
 "nbformat": 4,
 "nbformat_minor": 2
}
